{
 "cells": [
  {
   "cell_type": "code",
   "execution_count": 1,
   "id": "d2418d38",
   "metadata": {},
   "outputs": [
    {
     "name": "stdout",
     "output_type": "stream",
     "text": [
      "{'host': 'db', 'port': 3306, 'user': 'root', 'password': 'jh', 'database': 'DB_SQLSTK'}\n"
     ]
    }
   ],
   "source": [
    "from sql_connection import SQLconnector\n",
    "import pandas as pd\n",
    "import numpy as np\n",
    "import mysql.connector\n",
    "from config import SQL_CONFIG"
   ]
  },
  {
   "cell_type": "code",
   "execution_count": 2,
   "id": "3c40b5fe",
   "metadata": {},
   "outputs": [
    {
     "name": "stdout",
     "output_type": "stream",
     "text": [
      "creating\n",
      "<mysql.connector.connection_cext.CMySQLConnection object at 0x7f744282e6d0>\n"
     ]
    }
   ],
   "source": [
    "connector=SQLconnector()\n",
    "cursor=connector.getConnection()"
   ]
  },
  {
   "cell_type": "code",
   "execution_count": 3,
   "id": "0c8b598e",
   "metadata": {},
   "outputs": [
    {
     "name": "stdout",
     "output_type": "stream",
     "text": [
      "000020 동화약품\n",
      "000040 KR모터스\n",
      "000050 경방\n",
      "000060 메리츠화재\n",
      "000070 삼양홀딩스\n",
      "000075 삼양홀딩스우\n",
      "000080 하이트진로\n",
      "000087 하이트진로2우B\n",
      "000100 유한양행\n",
      "000105 유한양행우\n"
     ]
    }
   ],
   "source": [
    "query=(\"SELECT STK_CD,STK_NM FROM stock LIMIT 10\")\n",
    "cursor.execute(query)\n",
    "for (STK_CD, STK_NM) in cursor:\n",
    "    print(STK_CD, \n",
    "          STK_NM)"
   ]
  },
  {
   "cell_type": "code",
   "execution_count": 4,
   "id": "0d1b9887",
   "metadata": {},
   "outputs": [
    {
     "data": {
      "text/plain": [
       "[['001200', '유진투자증권'],\n",
       " ['001270', '부국증권'],\n",
       " ['001290', '상상인증권'],\n",
       " ['001500', '현대차증권'],\n",
       " ['001510', 'SK증권'],\n",
       " ['001720', '신영증권'],\n",
       " ['001750', '한양증권'],\n",
       " ['003460', '유화증권'],\n",
       " ['003470', '유안타증권'],\n",
       " ['003530', '한화투자증권'],\n",
       " ['003540', '대신증권'],\n",
       " ['005940', 'NH투자증권'],\n",
       " ['008560', '메리츠증권'],\n",
       " ['016360', '삼성증권'],\n",
       " ['016610', 'DB금융투자'],\n",
       " ['030210', 'KTB투자증권'],\n",
       " ['030610', '교보증권'],\n",
       " ['039490', '키움증권'],\n",
       " ['078020', '이베스트투자증권'],\n",
       " ['190650', '코리아에셋투자증권']]"
      ]
     },
     "execution_count": 4,
     "metadata": {},
     "output_type": "execute_result"
    }
   ],
   "source": [
    "query=\"SELECT STK_CD, STK_NM FROM stock WHERE SEC_NM=%s\"\n",
    "cursor.execute(query, ['증권'])\n",
    "result_lst=[]\n",
    "for STK_CD ,STK_NM in cursor:\n",
    "    result=[STK_CD ,STK_NM]\n",
    "    result_lst.append(result)\n",
    "result_lst"
   ]
  },
  {
   "cell_type": "code",
   "execution_count": 5,
   "id": "70e5a623",
   "metadata": {},
   "outputs": [
    {
     "data": {
      "text/html": [
       "<div>\n",
       "<style scoped>\n",
       "    .dataframe tbody tr th:only-of-type {\n",
       "        vertical-align: middle;\n",
       "    }\n",
       "\n",
       "    .dataframe tbody tr th {\n",
       "        vertical-align: top;\n",
       "    }\n",
       "\n",
       "    .dataframe thead th {\n",
       "        text-align: right;\n",
       "    }\n",
       "</style>\n",
       "<table border=\"1\" class=\"dataframe\">\n",
       "  <thead>\n",
       "    <tr style=\"text-align: right;\">\n",
       "      <th></th>\n",
       "      <th>STK_CD</th>\n",
       "      <th>STK_NM</th>\n",
       "    </tr>\n",
       "  </thead>\n",
       "  <tbody>\n",
       "    <tr>\n",
       "      <th>0</th>\n",
       "      <td>001200</td>\n",
       "      <td>유진투자증권</td>\n",
       "    </tr>\n",
       "    <tr>\n",
       "      <th>1</th>\n",
       "      <td>001270</td>\n",
       "      <td>부국증권</td>\n",
       "    </tr>\n",
       "    <tr>\n",
       "      <th>2</th>\n",
       "      <td>001290</td>\n",
       "      <td>상상인증권</td>\n",
       "    </tr>\n",
       "    <tr>\n",
       "      <th>3</th>\n",
       "      <td>001500</td>\n",
       "      <td>현대차증권</td>\n",
       "    </tr>\n",
       "    <tr>\n",
       "      <th>4</th>\n",
       "      <td>001510</td>\n",
       "      <td>SK증권</td>\n",
       "    </tr>\n",
       "    <tr>\n",
       "      <th>5</th>\n",
       "      <td>001720</td>\n",
       "      <td>신영증권</td>\n",
       "    </tr>\n",
       "    <tr>\n",
       "      <th>6</th>\n",
       "      <td>001750</td>\n",
       "      <td>한양증권</td>\n",
       "    </tr>\n",
       "    <tr>\n",
       "      <th>7</th>\n",
       "      <td>003460</td>\n",
       "      <td>유화증권</td>\n",
       "    </tr>\n",
       "    <tr>\n",
       "      <th>8</th>\n",
       "      <td>003470</td>\n",
       "      <td>유안타증권</td>\n",
       "    </tr>\n",
       "    <tr>\n",
       "      <th>9</th>\n",
       "      <td>003530</td>\n",
       "      <td>한화투자증권</td>\n",
       "    </tr>\n",
       "    <tr>\n",
       "      <th>10</th>\n",
       "      <td>003540</td>\n",
       "      <td>대신증권</td>\n",
       "    </tr>\n",
       "    <tr>\n",
       "      <th>11</th>\n",
       "      <td>005940</td>\n",
       "      <td>NH투자증권</td>\n",
       "    </tr>\n",
       "    <tr>\n",
       "      <th>12</th>\n",
       "      <td>008560</td>\n",
       "      <td>메리츠증권</td>\n",
       "    </tr>\n",
       "    <tr>\n",
       "      <th>13</th>\n",
       "      <td>016360</td>\n",
       "      <td>삼성증권</td>\n",
       "    </tr>\n",
       "    <tr>\n",
       "      <th>14</th>\n",
       "      <td>016610</td>\n",
       "      <td>DB금융투자</td>\n",
       "    </tr>\n",
       "    <tr>\n",
       "      <th>15</th>\n",
       "      <td>030210</td>\n",
       "      <td>KTB투자증권</td>\n",
       "    </tr>\n",
       "    <tr>\n",
       "      <th>16</th>\n",
       "      <td>030610</td>\n",
       "      <td>교보증권</td>\n",
       "    </tr>\n",
       "    <tr>\n",
       "      <th>17</th>\n",
       "      <td>039490</td>\n",
       "      <td>키움증권</td>\n",
       "    </tr>\n",
       "    <tr>\n",
       "      <th>18</th>\n",
       "      <td>078020</td>\n",
       "      <td>이베스트투자증권</td>\n",
       "    </tr>\n",
       "    <tr>\n",
       "      <th>19</th>\n",
       "      <td>190650</td>\n",
       "      <td>코리아에셋투자증권</td>\n",
       "    </tr>\n",
       "  </tbody>\n",
       "</table>\n",
       "</div>"
      ],
      "text/plain": [
       "    STK_CD     STK_NM\n",
       "0   001200     유진투자증권\n",
       "1   001270       부국증권\n",
       "2   001290      상상인증권\n",
       "3   001500      현대차증권\n",
       "4   001510       SK증권\n",
       "5   001720       신영증권\n",
       "6   001750       한양증권\n",
       "7   003460       유화증권\n",
       "8   003470      유안타증권\n",
       "9   003530     한화투자증권\n",
       "10  003540       대신증권\n",
       "11  005940     NH투자증권\n",
       "12  008560      메리츠증권\n",
       "13  016360       삼성증권\n",
       "14  016610     DB금융투자\n",
       "15  030210    KTB투자증권\n",
       "16  030610       교보증권\n",
       "17  039490       키움증권\n",
       "18  078020   이베스트투자증권\n",
       "19  190650  코리아에셋투자증권"
      ]
     },
     "execution_count": 5,
     "metadata": {},
     "output_type": "execute_result"
    }
   ],
   "source": [
    "df=pd.DataFrame(result_lst, columns=['STK_CD','STK_NM'])\n",
    "df"
   ]
  },
  {
   "cell_type": "code",
   "execution_count": 6,
   "id": "086997a0",
   "metadata": {},
   "outputs": [
    {
     "data": {
      "text/plain": [
       "True"
      ]
     },
     "execution_count": 6,
     "metadata": {},
     "output_type": "execute_result"
    }
   ],
   "source": [
    "cursor.close()"
   ]
  }
 ],
 "metadata": {
  "kernelspec": {
   "display_name": "Python 3 (ipykernel)",
   "language": "python",
   "name": "python3"
  },
  "language_info": {
   "codemirror_mode": {
    "name": "ipython",
    "version": 3
   },
   "file_extension": ".py",
   "mimetype": "text/x-python",
   "name": "python",
   "nbconvert_exporter": "python",
   "pygments_lexer": "ipython3",
   "version": "3.9.7"
  }
 },
 "nbformat": 4,
 "nbformat_minor": 5
}
