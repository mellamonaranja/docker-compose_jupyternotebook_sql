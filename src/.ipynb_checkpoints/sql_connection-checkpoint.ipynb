{
 "cells": [
  {
   "cell_type": "code",
   "execution_count": 1,
   "id": "185309f5",
   "metadata": {},
   "outputs": [],
   "source": [
    "import mysql.connector\n",
    "from mysql.connector import Error"
   ]
  },
  {
   "cell_type": "code",
   "execution_count": 2,
   "id": "5d430a83",
   "metadata": {},
   "outputs": [],
   "source": [
    "from config import SQL_CONFIG\n",
    "import urllib3"
   ]
  },
  {
   "cell_type": "code",
   "execution_count": 7,
   "id": "d3208ce6",
   "metadata": {},
   "outputs": [
    {
     "name": "stdout",
     "output_type": "stream",
     "text": [
      "Connected to MySQL Server version  8.0.27\n",
      "You're connected to database:  ('DB_SQLSTK',)\n",
      "MySQL connection is closed\n"
     ]
    }
   ],
   "source": [
    "# mydb=mysql.connector.connect(\n",
    "# host=\"db\",\n",
    "# username=\"root\",\n",
    "# password=\"jh\",\n",
    "# database=\"DB_SQLSTK\",\n",
    "# connection_timeout=180\n",
    "# )\n",
    "# try:\n",
    "#     if mydb.is_connected():\n",
    "#         db_Info=mydb.get_server_info()\n",
    "#         print('Connected to MySQL Server version ', db_Info)\n",
    "#         cursor=mydb.cursor()\n",
    "#         cursor.execute('Select database();')\n",
    "#         record=cursor.fetchone()\n",
    "#         print('You\\'re connected to database: ',record)\n",
    "        \n",
    "#         global_connect_timeout='SET GLOBAL connect_timeout=180'\n",
    "#         global_wait_timeout='SET GLOBAL connect_timeout=180'\n",
    "#         global_interactive_timeout='SET GLOBAL connect_timeout=180'\n",
    "        \n",
    "#         cursor.execute(global_connect_timeout)\n",
    "#         cursor.execute(global_wait_timeout)\n",
    "#         cursor.execute(global_interactive_timeout)\n",
    "        \n",
    "#         mydb.commit()\n",
    "        \n",
    "# except Error as e:\n",
    "#     print('Error while connection to MySQL',e)\n",
    "# finally:\n",
    "#     if mydb.is_connected():\n",
    "#         cursor.close()\n",
    "#         mydb.close()\n",
    "#         print('MySQL connection is closed')"
   ]
  },
  {
   "cell_type": "code",
   "execution_count": 6,
   "id": "54fb7343",
   "metadata": {},
   "outputs": [
    {
     "name": "stdout",
     "output_type": "stream",
     "text": [
      "Connected to MySQL Server version  8.0.27\n",
      "You're connected to database:  ('DB_SQLSTK',)\n"
     ]
    }
   ],
   "source": [
    "# mydb=mysql.connector.connect(\n",
    "# host=\"db\",\n",
    "# username=\"root\",\n",
    "# password=\"jh\",\n",
    "# database=\"DB_SQLSTK\",\n",
    "# connection_timeout=180\n",
    "# )\n",
    "\n",
    "# if mydb.is_connected():\n",
    "#     db_Info=mydb.get_server_info()\n",
    "#     print('Connected to MySQL Server version ', db_Info)\n",
    "#     cursor=mydb.cursor()\n",
    "#     cursor.execute('Select database();')\n",
    "#     record=cursor.fetchone()\n",
    "#     print('You\\'re connected to database: ',record)\n",
    "        \n",
    "#     global_connect_timeout='SET GLOBAL connect_timeout=180'\n",
    "#     global_wait_timeout='SET GLOBAL connect_timeout=180'\n",
    "#     global_interactive_timeout='SET GLOBAL connect_timeout=180'\n",
    "        \n",
    "#     cursor.execute(global_connect_timeout)\n",
    "#     cursor.execute(global_wait_timeout)\n",
    "#     cursor.execute(global_interactive_timeout)\n",
    "        \n",
    "#     mydb.commit()"
   ]
  },
  {
   "cell_type": "code",
   "execution_count": 4,
   "id": "c2d9c72c",
   "metadata": {},
   "outputs": [],
   "source": [
    "class SQLconnector:\n",
    "    def __init__(self):\n",
    "        print('creating')\n",
    "        self.mydb=None\n",
    "        \n",
    "    def connect(self):\n",
    "        mydb=mysql.connector.connect(hosts=[{'host':SQL_CONFIG['host'],'port':SQL_CONFIG['port'],\n",
    "                                             'database':SQL_CONFIG['database']}],\n",
    "                                    verify_certs=False,\n",
    "                                    http_auth=(SQL_CONFIG['user'],SQL_CONFIG['password']))\n",
    "        print(mydb)\n",
    "        urllib3.disable_warnings(urllib3.exceptions.InsecureRequestWarning)\n",
    "        self.mydb=mydb\n",
    "        \n",
    "    def isConnected(self):\n",
    "        if self.mydb is not None:\n",
    "            return True\n",
    "        else:\n",
    "            return False\n",
    "        \n",
    "    def getConnection(self):\n",
    "        if not self.isConnected():\n",
    "            self.connect()\n",
    "        return self.mydb"
   ]
  },
  {
   "cell_type": "code",
   "execution_count": null,
   "id": "e2e866e0",
   "metadata": {},
   "outputs": [],
   "source": []
  }
 ],
 "metadata": {
  "kernelspec": {
   "display_name": "Python 3 (ipykernel)",
   "language": "python",
   "name": "python3"
  },
  "language_info": {
   "codemirror_mode": {
    "name": "ipython",
    "version": 3
   },
   "file_extension": ".py",
   "mimetype": "text/x-python",
   "name": "python",
   "nbconvert_exporter": "python",
   "pygments_lexer": "ipython3",
   "version": "3.9.7"
  }
 },
 "nbformat": 4,
 "nbformat_minor": 5
}
